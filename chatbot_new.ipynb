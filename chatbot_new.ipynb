{
 "cells": [
  {
   "cell_type": "code",
   "execution_count": 1,
   "metadata": {
    "colab": {
     "base_uri": "https://localhost:8080/"
    },
    "id": "n8MlwBlSGpIp",
    "outputId": "101f0913-660e-4e7a-c0e6-2c71378290d3"
   },
   "outputs": [
    {
     "name": "stdout",
     "output_type": "stream",
     "text": [
      "Requirement already satisfied: nltk in d:\\anaconda\\lib\\site-packages (3.7)\n",
      "Requirement already satisfied: click in d:\\anaconda\\lib\\site-packages (from nltk) (8.0.4)\n",
      "Requirement already satisfied: joblib in d:\\anaconda\\lib\\site-packages (from nltk) (1.1.0)\n",
      "Requirement already satisfied: regex>=2021.8.3 in d:\\anaconda\\lib\\site-packages (from nltk) (2022.3.15)\n",
      "Requirement already satisfied: tqdm in d:\\anaconda\\lib\\site-packages (from nltk) (4.64.0)\n",
      "Requirement already satisfied: colorama in d:\\anaconda\\lib\\site-packages (from click->nltk) (0.4.4)\n"
     ]
    }
   ],
   "source": [
    "!pip install nltk\n",
    "#!pip install chatterbot\n",
    "#!pip install spacy==2.3.5\n",
    "#!pip install chatterbot-corpus"
   ]
  },
  {
   "cell_type": "code",
   "execution_count": null,
   "metadata": {
    "colab": {
     "base_uri": "https://localhost:8080/"
    },
    "id": "YmdyffNmINCz",
    "outputId": "84575c16-8f69-494e-bf21-34e56678fadf"
   },
   "outputs": [],
   "source": [
    "import nltk\n",
    "nltk.download('omw-1.4')\n",
    "import numpy as np #NumPy aims to provide an array object that is up to \n",
    "                   #50x faster than traditional Python lists. \n",
    "import random\n",
    "import string # to process standard python strings\n",
    "\n",
    "#from chatterbot import ChatBot\n",
    "#from chatterbot.trainers import ChatterBotCorpusTrainer\n",
    "\n"
   ]
  },
  {
   "cell_type": "code",
   "execution_count": null,
   "metadata": {
    "colab": {
     "base_uri": "https://localhost:8080/"
    },
    "id": "D5ZlbqpgHPL2",
    "outputId": "ab0ad37c-81c1-4467-b74d-4363e6962918"
   },
   "outputs": [],
   "source": [
    "f=open('ml_data.txt','r',errors = 'ignore')\n",
    "corpus=f.read()\n",
    "corpus=corpus.lower()# converts each words to lowercase\n",
    "nltk.download('punkt') # In NLTK, PUNKT is an unsupervised trainable model, which means it can be \n",
    "                       #trained on unlabeled data.Its related to tokenizer\n",
    "nltk.download('wordnet') #  to find the meanings of words, synonyms, antonyms, and more.\n",
    "sent_tokens = nltk.sent_tokenize(corpus)# converts whole text to list of sentences \n",
    "word_tokens = nltk.word_tokenize(corpus)# converts whole text to list of words"
   ]
  },
  {
   "cell_type": "code",
   "execution_count": null,
   "metadata": {
    "colab": {
     "base_uri": "https://localhost:8080/"
    },
    "id": "_yWMjmsuHSvL",
    "outputId": "dfbaf846-4c2f-4bde-9e9f-3bd1897d9308"
   },
   "outputs": [],
   "source": [
    "sent_tokens[:2]"
   ]
  },
  {
   "cell_type": "code",
   "execution_count": null,
   "metadata": {
    "colab": {
     "base_uri": "https://localhost:8080/"
    },
    "id": "NPjElI22HW-N",
    "outputId": "348dfe6a-613d-4659-8779-fe810a983016"
   },
   "outputs": [
    {
     "data": {
      "text/plain": [
       "['machine', 'learning']"
      ]
     },
     "execution_count": 109,
     "metadata": {},
     "output_type": "execute_result"
    }
   ],
   "source": [
    "word_tokens[:2]"
   ]
  },
  {
   "cell_type": "code",
   "execution_count": null,
   "metadata": {
    "id": "8K-LIToDHel4"
   },
   "outputs": [],
   "source": [
    "lemmer = nltk.stem.WordNetLemmatizer()\n",
    "#WordNet is a semantically-oriented dictionary of English included in NLTK.\n",
    "\n",
    "def LemTokens(tokens):\n",
    "    return [lemmer.lemmatize(token) for token in tokens]\n",
    "    \n",
    "remove_punct_dict = dict((ord(punct), None) for punct in string.punctuation)\n",
    "def LemNormalize(text):\n",
    "    return LemTokens(nltk.word_tokenize(text.lower().translate(remove_punct_dict)))\n",
    "    #basically removing all punctuations"
   ]
  },
  {
   "cell_type": "code",
   "execution_count": null,
   "metadata": {
    "id": "nFWpUvAWHkpu"
   },
   "outputs": [],
   "source": [
    "GREETING_INPUTS = (\"hello\", \"hi\", \"greetings\", \"sup\", \"what's up\",\"hey\",)\n",
    "GREETING_RESPONSES = [\"hi\", \"hey\", \"*nods*\", \"hi there\", \"hello\", \"I am glad! You are talking to me\"]\n",
    "\n",
    "#qns = (\"how are you?\",\"are u doing good?\",\"how do you do?\",\"what's up bro?\")\n",
    "#ans = (\"I am good\",\"I am fine\",\"I doing good, wbu?\",\"I am awesome\")\n",
    "\n",
    "def greeting(sentence):\n",
    "    for word in sentence.split():\n",
    "        if word.lower() in GREETING_INPUTS:\n",
    "            return random.choice(GREETING_RESPONSES)\n",
    "\n",
    "#def nextgreet(sentence):\n",
    " \n",
    "#    for word in sentence.split():\n",
    "#        if word.lower() in qns:\n",
    "#            return random.choice(ans)"
   ]
  },
  {
   "cell_type": "code",
   "execution_count": null,
   "metadata": {
    "colab": {
     "base_uri": "https://localhost:8080/",
     "height": 52
    },
    "id": "PdVvdlSbHoij",
    "outputId": "fa5692f2-5517-400b-ba65-d8325bc4e418"
   },
   "outputs": [
    {
     "data": {
      "application/vnd.google.colaboratory.intrinsic+json": {
       "type": "string"
      },
      "text/plain": [
       "'cosine-similarity : This will be used to find the similarity between words\\n entered by the user and the words in the corpus.\\n'"
      ]
     },
     "execution_count": 112,
     "metadata": {},
     "output_type": "execute_result"
    }
   ],
   "source": [
    "'''Consider a document containing 100 words wherein the word ‘phone’ appears 5 times.\n",
    "\n",
    "The term frequency (i.e., tf) for phone is then (5 / 100) = 0.05. Now, assume we \n",
    "have 10 million documents and the word phone appears in one thousand of these. Then, \n",
    "the inverse document frequency (i.e., IDF) is calculated as log(10,000,000 / 1,000) = 4. \n",
    "Thus, the Tf-IDF weight is the product of these quantities: 0.05 * 4 = 0.20.\n",
    "'''\n",
    "from sklearn.feature_extraction.text import TfidfVectorizer\n",
    "from sklearn.metrics.pairwise import cosine_similarity\n",
    "\n",
    "'''cosine-similarity : This will be used to find the similarity between words\n",
    " entered by the user and the words in the corpus.\n",
    "'''"
   ]
  },
  {
   "cell_type": "code",
   "execution_count": null,
   "metadata": {
    "id": "O88YHIiWH076"
   },
   "outputs": [],
   "source": [
    "'''The fit(data) method is used to compute the mean and std dev for a given \n",
    "                 feature to be used further for scaling.\n",
    "   The transform(data) method is used to perform scaling using mean and\n",
    "                       std dev calculated using the .fit() method.\n",
    "   The fit_transform() method does both fits and transform.\n",
    "\n",
    "   *.argsort () means to sort the elements of an array \n",
    "\n",
    "   \n",
    "'''\n",
    "def response(user_response):\n",
    "    robo_response=''\n",
    "    TfidfVec = TfidfVectorizer(tokenizer=LemNormalize, stop_words='english')\n",
    "    tfidf = TfidfVec.fit_transform(sent_tokens)\n",
    "    vals = cosine_similarity(tfidf[-1], tfidf)\n",
    "    idx=vals.argsort()[0][-2]\n",
    "    flat = vals.flatten()\n",
    "    flat.sort()\n",
    "    req_tfidf = flat[-2]\n",
    "    if(req_tfidf==0):\n",
    "        robo_response=robo_response+\"I am sorry! I don't understand you\"\n",
    "        return robo_response\n",
    "    else:\n",
    "        robo_response = robo_response+sent_tokens[idx]\n",
    "        return robo_response"
   ]
  },
  {
   "cell_type": "code",
   "execution_count": null,
   "metadata": {
    "colab": {
     "base_uri": "https://localhost:8080/"
    },
    "id": "nqJtnXxplBis",
    "outputId": "412a7aea-8083-4d13-f7de-d319962d9203"
   },
   "outputs": [
    {
     "name": "stdout",
     "output_type": "stream",
     "text": [
      "[[2 3]\n",
      " [4 5]]\n",
      "[2 3 4 5]\n"
     ]
    }
   ],
   "source": [
    "# not a part of code\n",
    "import numpy as np\n",
    "  \n",
    "# declare matrix with np\n",
    "matrix = np.array([[2, 3], [4, 5]])\n",
    "  \n",
    "# using array.flatten() method\n",
    "flat = matrix.flatten()\n",
    "print(matrix)\n",
    "print(flat)"
   ]
  },
  {
   "cell_type": "code",
   "execution_count": null,
   "metadata": {
    "id": "bXRMVWuRBpyj"
   },
   "outputs": [],
   "source": []
  },
  {
   "cell_type": "code",
   "execution_count": null,
   "metadata": {
    "colab": {
     "base_uri": "https://localhost:8080/"
    },
    "id": "mnVLy701H5RL",
    "outputId": "ad5e54a4-564e-4ccc-db62-7dc069cf8f20"
   },
   "outputs": [
    {
     "name": "stdout",
     "output_type": "stream",
     "text": [
      "ROBO: My name is Robo. I will answer your queries about Chatbots. If you want to exit, type Bye!\n",
      "USER: hi\n",
      "ROBO: hi\n",
      "USER: machine\n"
     ]
    },
    {
     "name": "stderr",
     "output_type": "stream",
     "text": [
      "/usr/local/lib/python3.8/dist-packages/sklearn/feature_extraction/text.py:396: UserWarning: Your stop_words may be inconsistent with your preprocessing. Tokenizing the stop words generated tokens ['ha', 'le', 'u', 'wa'] not in stop_words.\n",
      "  warnings.warn(\n"
     ]
    },
    {
     "name": "stdout",
     "output_type": "stream",
     "text": [
      "ROBO: what is machine learning?\n",
      "USER: local\n",
      "ROBO: I am sorry! I don't understand you\n",
      "USER: what is deep\n",
      "ROBO: the “deep” in deep learning is just referring to the number of layers in a neural network.\n",
      "USER: cool\n",
      "ROBO: I am sorry! I don't understand you\n",
      "USER: nueral network\n",
      "ROBO: a neural network that only has three layers is just a basic neural network.\n",
      "USER: history\n",
      "ROBO: ibm has a rich history with machine learning.\n",
      "USER: frameworks\n",
      "ROBO: machine learning algorithms are typically created using frameworks that accelerate solution development, such as tensorflow and pytorch.\n",
      "USER: algorithms\n",
      "ROBO: the way in which deep learning and machine learning differ is in how each algorithm learns.\n",
      "USER: nice\n",
      "ROBO: I am sorry! I don't understand you\n",
      "USER: human\n",
      "ROBO: classical, or \"non-deep\", machine learning is more dependent on human intervention to learn.\n",
      "USER: language\n",
      "ROBO: deep learning and neural networks are credited with accelerating progress in areas such as computer vision, natural language processing, and speech recognition.\n",
      "USER: byee\n",
      "ROBO: I am sorry! I don't understand you\n",
      "USER: bye\n",
      "ROBO: Bye! take care..\n"
     ]
    }
   ],
   "source": [
    "\n",
    "\n",
    "flag=True\n",
    "print(\"ROBO: My name is Robo. I will answer your queries about Chatbots. If you want to exit, type Bye!\")\n",
    "while(flag==True):\n",
    "    user_response = input(\"USER: \")\n",
    "    user_response=user_response.lower()\n",
    "\n",
    "    if(user_response!='bye'):\n",
    "        if(user_response=='thanks' or user_response=='thank you' ):\n",
    "            flag=False\n",
    "            print(\"ROBO: You are welcome..\")\n",
    "        else:\n",
    "            if(greeting(user_response)!=None):\n",
    "                print(\"ROBO: \"+greeting(user_response))\n",
    "\n",
    "            \n",
    "            else:\n",
    "                \n",
    "                sent_tokens.append(user_response)\n",
    "                word_tokens=word_tokens+nltk.word_tokenize(user_response)\n",
    "                final_words=list(set(word_tokens))\n",
    "                print(\"ROBO: \",end=\"\")\n",
    "                print(response(user_response))\n",
    "                sent_tokens.remove(user_response)\n",
    "    else:\n",
    "        flag=False\n",
    "        print(\"ROBO: Bye! take care..\")"
   ]
  }
 ],
 "metadata": {
  "colab": {
   "provenance": []
  },
  "kernelspec": {
   "display_name": "Python 3 (ipykernel)",
   "language": "python",
   "name": "python3"
  },
  "language_info": {
   "codemirror_mode": {
    "name": "ipython",
    "version": 3
   },
   "file_extension": ".py",
   "mimetype": "text/x-python",
   "name": "python",
   "nbconvert_exporter": "python",
   "pygments_lexer": "ipython3",
   "version": "3.9.12"
  }
 },
 "nbformat": 4,
 "nbformat_minor": 1
}
